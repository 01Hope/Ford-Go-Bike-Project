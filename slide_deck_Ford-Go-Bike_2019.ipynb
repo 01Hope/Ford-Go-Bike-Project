{
 "cells": [
  {
   "cell_type": "markdown",
   "metadata": {
    "slideshow": {
     "slide_type": "slide"
    }
   },
   "source": [
    "# Ford GoBike System Dataset Exploration\n",
    "## by Hope Ugwuabanachi"
   ]
  },
  {
   "cell_type": "markdown",
   "metadata": {
    "slideshow": {
     "slide_type": "slide"
    }
   },
   "source": [
    "\n",
    "## Investigation Overview\n",
    "\n",
    " The goal of this presentation is to know how some features in the dataset are best for predicting: \n",
    " \n",
    " The type of user that come for program trips.\n",
    " Duration of use by users\n",
    " Gender of users and their percentages\n",
    " Age of users that come for program trips.\n",
    " \n",
    "\n",
    "### Summary of key insights\n",
    " \n",
    "> Majority of the users ages are between 24 and 38,\n",
    "> Most users were not part of the trips program,\n",
    "> Like 90% of the users were subscribers,\n",
    "> majority of the users trip for less than 30 minutes.\n",
    "> There are more male users than females,\n",
    "> Most of the users spend less than an hour on the trips,\n",
    "> we have an outlier for users' age over 140years old,\n",
    "> Males have shorter trip durations in minutes,\n",
    "> User_type 'customer' have more older users than subscribers,\n",
    "> User_type 'customer' go for longer trips than user_type 'subscribers',\n",
    "> Member_gender 'Female' has more older users than other genders,\n",
    "> There was a significant higher trip duration during weekend days by Customers,\n",
    "> Average duration at 3.00 AM is most high than in other hour for customers,\n",
    "> Customers tend to use the bike service during the weekdays around 8am and mostly on Thursdays around 5pm. Then on Saturday/Sunday from 1 PM to 4 PM, while Subscribers will likely have a trip from Monday to Friday around8 PM & in the evening around 5-6 PM.\n",
    "\n",
    "\n",
    "\n",
    "## Dataset Overview\n",
    "\n",
    "> This data set includes information regarding 183412 individual rides made in a bike-sharing system covering the greater San Francisco Bay area. Some of the data features includes duration_sec, start_time, end_time, member_gender and other additional variables.\n",
    "\n",
    "The Data for each trip is anonymized and includes:\n",
    "\n",
    "Trip Duration (seconds)\n",
    "Start Time and Date\n",
    "End Time and Date\n",
    "Start Station ID\n",
    "Start Station Name\n",
    "Start Station Latitude\n",
    "Start Station Longitude\n",
    "End Station ID\n",
    "End Station Name\n",
    "End Station Latitude\n",
    "End Station Longitude\n",
    "Bike ID\n",
    "User Type (Subscriber or Customer – “Subscriber” = Member or “Customer” = Casual)\n"
   ]
  },
  {
   "cell_type": "code",
   "execution_count": 1,
   "metadata": {
    "slideshow": {
     "slide_type": "skip"
    }
   },
   "outputs": [],
   "source": [
    "# import all packages and set plots to be embedded inline\n",
    "import numpy as np\n",
    "import pandas as pd\n",
    "import matplotlib.pyplot as plt\n",
    "import seaborn as sb\n",
    "\n",
    "%matplotlib inline\n",
    "\n",
    "# suppress warnings from final output\n",
    "import warnings\n",
    "warnings.simplefilter(\"ignore\")"
   ]
  },
  {
   "cell_type": "code",
   "execution_count": 2,
   "metadata": {
    "slideshow": {
     "slide_type": "skip"
    }
   },
   "outputs": [],
   "source": [
    "# load in the dataset into a pandas dataframe\n",
    "df_ford = pd.read_csv(\"201902-fordgobike-tripdata.csv\")\n",
    "\n",
    "# drop all null values\n",
    "df_ford.dropna(inplace=True)\n",
    "\n",
    "# create age column\n",
    "df_ford[\"age\"] = 2019 - df_ford[\"member_birth_year\"]\n",
    "\n",
    "# change the age column to int64\n",
    "df_ford[\"age\"] = df_ford[\"age\"].astype('int64')\n",
    "\n",
    "# create duration_mins & duration_hrs columns\n",
    "df_ford[\"duration_mins\"] = df_ford[\"duration_sec\"]/60\n",
    "df_ford[\"duration_hrs\"] = df_ford[\"duration_sec\"]/3600"
   ]
  },
  {
   "cell_type": "markdown",
   "metadata": {
    "slideshow": {
     "slide_type": "notes"
    }
   },
   "source": [
    "> Note that the above cells have been set as \"Skip\"-type slides. That means\n",
    "that when the notebook is rendered as http slides, those cells won't show up."
   ]
  },
  {
   "cell_type": "markdown",
   "metadata": {
    "slideshow": {
     "slide_type": "slide"
    }
   },
   "source": [
    "## (Visualization 1)\n",
    "\n",
    "Below shows a visualization showing the distribution of ages. The chart shows that 'Female' users have more older users than other genders"
   ]
  },
  {
   "cell_type": "code",
   "execution_count": 3,
   "metadata": {
    "slideshow": {
     "slide_type": "subslide"
    }
   },
   "outputs": [
    {
     "data": {
      "text/plain": [
       "Text(0.5,1,'User distribution Based on their Age and member_gender ? ')"
      ]
     },
     "execution_count": 3,
     "metadata": {},
     "output_type": "execute_result"
    },
    {
     "data": {
      "image/png": "[encoded data removed]",
      "text/plain": [
       "<matplotlib.figure.Figure at 0x7f5215298390>"
      ]
     },
     "metadata": {
      "needs_background": "light"
     },
     "output_type": "display_data"
    }
   ],
   "source": [
    "plt.figure(figsize = (10,5))\n",
    "base_color = sb.color_palette()[0]\n",
    "\n",
    "sb.boxplot(data=df_ford,x = \"member_gender\", y = \"age\", color=base_color)\n",
    "plt.xlabel('Member Gender')\n",
    "plt.ylabel('Age')\n",
    "plt.title(\"User distribution Based on their Age and member_gender ? \")"
   ]
  },
  {
   "cell_type": "markdown",
   "metadata": {
    "collapsed": true,
    "slideshow": {
     "slide_type": "slide"
    }
   },
   "source": [
    "## (Visualization 2)\n",
    "\n",
    "Below shows a visualization showing the distribution of user types. The chart shows that majority of the users are subscribers."
   ]
  },
  {
   "cell_type": "code",
   "execution_count": 4,
   "metadata": {
    "slideshow": {
     "slide_type": "subslide"
    }
   },
   "outputs": [
    {
     "data": {
      "text/plain": [
       "Text(0.5,1,'Users Distribution Based on User Type')"
      ]
     },
     "execution_count": 4,
     "metadata": {},
     "output_type": "execute_result"
    },
    {
     "data": {
      "image/png": "[encoded data removed]",
      "text/plain": [
       "<matplotlib.figure.Figure at 0x7f5215301fd0>"
      ]
     },
     "metadata": {
      "needs_background": "light"
     },
     "output_type": "display_data"
    }
   ],
   "source": [
    "# create a visualization showing the distribution of user types\n",
    "plt.figure(figsize=[8,5])\n",
    "sb.countplot(data=df_ford, y=\"user_type\")\n",
    "\n",
    "plt.ylabel(\"users distribution\")\n",
    "plt.xlabel(\"Number of users\")\n",
    "plt.title(\"Users Distribution Based on User Type\")"
   ]
  },
  {
   "cell_type": "markdown",
   "metadata": {
    "slideshow": {
     "slide_type": "slide"
    }
   },
   "source": [
    "## (Visualization 3)\n",
    "\n",
    "Below shows a visualization showing the distribution of member gender. The chart shows that majority of the users are males."
   ]
  },
  {
   "cell_type": "code",
   "execution_count": 5,
   "metadata": {
    "slideshow": {
     "slide_type": "subslide"
    }
   },
   "outputs": [
    {
     "data": {
      "text/plain": [
       "Text(0.5,1,'Customers distribution based on Gender')"
      ]
     },
     "execution_count": 5,
     "metadata": {},
     "output_type": "execute_result"
    },
    {
     "data": {
      "image/png": "[encoded data removed]",
      "text/plain": [
       "<matplotlib.figure.Figure at 0x7f52148fac88>"
      ]
     },
     "metadata": {
      "needs_background": "light"
     },
     "output_type": "display_data"
    }
   ],
   "source": [
    "# create a visualization showing the distribution of member gender\n",
    "plt.figure(figsize = [10,5])\n",
    "plot = sb.countplot(data=df_ford, x='member_gender')\n",
    "plt.xlabel('gender')\n",
    "plt.ylabel('Frequency')\n",
    "plt.title(\"Customers distribution based on Gender\")"
   ]
  },
  {
   "cell_type": "code",
   "execution_count": null,
   "metadata": {
    "scrolled": true,
    "slideshow": {
     "slide_type": "skip"
    }
   },
   "outputs": [
    {
     "name": "stdout",
     "output_type": "stream",
     "text": [
      "[NbConvertApp] Converting notebook slide_deck_Ford-Go-Bike_2019.ipynb to slides\n",
      "[NbConvertApp] Writing 324968 bytes to slide_deck_Ford-Go-Bike_2019.slides.html\n",
      "[NbConvertApp] Redirecting reveal.js requests to https://cdnjs.cloudflare.com/ajax/libs/reveal.js/3.5.0\n",
      "Serving your slides at http://127.0.0.1:8000/slide_deck_Ford-Go-Bike_2019.slides.html\n",
      "Use Control-C to stop this server\n",
      "/usr/bin/xdg-open: 778: /usr/bin/xdg-open: x-www-browser: not found\n",
      "/usr/bin/xdg-open: 778: /usr/bin/xdg-open: firefox: not found\n",
      "/usr/bin/xdg-open: 778: /usr/bin/xdg-open: iceweasel: not found\n",
      "/usr/bin/xdg-open: 778: /usr/bin/xdg-open: seamonkey: not found\n",
      "/usr/bin/xdg-open: 778: /usr/bin/xdg-open: mozilla: not found\n",
      "/usr/bin/xdg-open: 778: /usr/bin/xdg-open: epiphany: not found\n",
      "/usr/bin/xdg-open: 778: /usr/bin/xdg-open: konqueror: not found\n",
      "/usr/bin/xdg-open: 778: /usr/bin/xdg-open: chromium-browser: not found\n",
      "/usr/bin/xdg-open: 778: /usr/bin/xdg-open: google-chrome: not found\n",
      "/usr/bin/xdg-open: 778: /usr/bin/xdg-open: www-browser: not found\n",
      "/usr/bin/xdg-open: 778: /usr/bin/xdg-open: links2: not found\n",
      "/usr/bin/xdg-open: 778: /usr/bin/xdg-open: elinks: not found\n",
      "/usr/bin/xdg-open: 778: /usr/bin/xdg-open: links: not found\n",
      "/usr/bin/xdg-open: 778: /usr/bin/xdg-open: lynx: not found\n",
      "/usr/bin/xdg-open: 778: /usr/bin/xdg-open: w3m: not found\n",
      "xdg-open: no method available for opening 'http://127.0.0.1:8000/slide_deck_Ford-Go-Bike_2019.slides.html'\n"
     ]
    }
   ],
   "source": [
    "# Use this command if you are running this file in local\n",
    "!jupyter nbconvert slide_deck_Ford-Go-Bike_2019.ipynb --to slides --post serve --no-input --no-prompt"
   ]
  },
  {
   "cell_type": "code",
   "execution_count": null,
   "metadata": {
    "slideshow": {
     "slide_type": "-"
    }
   },
   "outputs": [],
   "source": []
  },
  {
   "cell_type": "code",
   "execution_count": null,
   "metadata": {},
   "outputs": [],
   "source": []
  }
 ],
 "metadata": {
  "celltoolbar": "Slideshow",
  "kernelspec": {
   "display_name": "Python 3",
   "language": "python",
   "name": "python3"
  },
  "language_info": {
   "codemirror_mode": {
    "name": "ipython",
    "version": 3
   },
   "file_extension": ".py",
   "mimetype": "text/x-python",
   "name": "python",
   "nbconvert_exporter": "python",
   "pygments_lexer": "ipython3",
   "version": "3.6.3"
  }
 },
 "nbformat": 4,
 "nbformat_minor": 2
}
